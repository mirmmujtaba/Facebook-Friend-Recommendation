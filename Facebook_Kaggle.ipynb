{
 "cells": [
  {
   "cell_type": "markdown",
   "metadata": {},
   "source": [
    "# ***Solving Facebook's Link Prediction using Machine Learning.***"
   ]
  },
  {
   "cell_type": "code",
   "execution_count": 85,
   "metadata": {},
   "outputs": [],
   "source": [
    "import warnings\n",
    "warnings.filterwarnings(\"ignore\")\n",
    "\n",
    "import csv\n",
    "import pandas as pd\n",
    "import numpy as np\n",
    "import matplotlib.pylab as plt\n",
    "import seaborn as sns\n",
    "import random\n",
    "import math\n",
    "from scipy.sparse.linalg import svds, eigs\n",
    "import networkx as nx\n",
    "from sklearn.model_selection import train_test_split\n",
    "import tensorflow as tf\n",
    "from tensorflow.keras import utils\n",
    "from tensorflow.keras.datasets import mnist \n",
    "import seaborn as sns\n",
    "from tensorflow.keras.initializers import glorot_normal, he_normal\n",
    "from tensorflow.keras.models import Sequential \n",
    "from tensorflow.keras.layers import Dense, Activation\n",
    "from tensorflow.keras.layers import BatchNormalization\n",
    "from sklearn.model_selection import RandomizedSearchCV\n",
    "from scipy.stats import randint as sp_randint\n",
    "from sklearn.metrics import confusion_matrix, f1_score, roc_curve, auc"
   ]
  },
  {
   "cell_type": "code",
   "execution_count": 19,
   "metadata": {},
   "outputs": [],
   "source": [
    "g = nx.read_edgelist('data/after_eda/train_woheader.csv', delimiter = ',', create_using = nx.DiGraph(), nodetype = int)"
   ]
  },
  {
   "cell_type": "markdown",
   "metadata": {},
   "source": [
    "*1. Number of followers of each person.*"
   ]
  },
  {
   "cell_type": "code",
   "execution_count": 8,
   "metadata": {},
   "outputs": [
    {
     "data": {
      "image/png": "[encoded data removed]",
      "text/plain": [
       "<Figure size 1080x432 with 1 Axes>"
      ]
     },
     "metadata": {
      "needs_background": "light"
     },
     "output_type": "display_data"
    }
   ],
   "source": [
    "no_of_followers = sorted(list(dict(g.in_degree()).values()))\n",
    "plt.figure(figsize = (15, 6))\n",
    "plt.plot(no_of_followers)\n",
    "plt.xlabel('Index No.')\n",
    "plt.ylabel('No. Of Followers')\n",
    "plt.show()"
   ]
  },
  {
   "cell_type": "code",
   "execution_count": 9,
   "metadata": {},
   "outputs": [
    {
     "name": "stdout",
     "output_type": "stream",
     "text": [
      "90 th percentile is: 12.0\n",
      "91 th percentile is: 13.0\n",
      "92 th percentile is: 14.0\n",
      "93 th percentile is: 15.0\n",
      "94 th percentile is: 17.0\n",
      "95 th percentile is: 19.0\n",
      "96 th percentile is: 21.0\n",
      "97 th percentile is: 24.0\n",
      "98 th percentile is: 29.0\n",
      "99 th percentile is: 40.0\n",
      "100 th percentile is: 552.0\n"
     ]
    }
   ],
   "source": [
    "for i in range(90, 101):\n",
    "    print(i, 'th percentile is:', np.percentile(no_of_followers, i))"
   ]
  },
  {
   "cell_type": "markdown",
   "metadata": {},
   "source": [
    "We can see there is a huge difference between 99th and 100th percentile. Let's zoom in between these percentiles."
   ]
  },
  {
   "cell_type": "code",
   "execution_count": 10,
   "metadata": {},
   "outputs": [
    {
     "name": "stdout",
     "output_type": "stream",
     "text": [
      "99.1 th percentile is: 42.0\n",
      "99.2 th percentile is: 44.0\n",
      "99.3 th percentile is: 47.0\n",
      "99.4 th percentile is: 50.0\n",
      "99.5 th percentile is: 55.0\n",
      "99.6 th percentile is: 61.0\n",
      "99.7 th percentile is: 70.0\n",
      "99.8 th percentile is: 84.0\n",
      "99.9 th percentile is: 112.0\n",
      "100.0 th percentile is: 552.0\n"
     ]
    }
   ],
   "source": [
    "for i in np.arange(1, 11)/10:\n",
    "    print(99 + i, 'th percentile is:', np.percentile(no_of_followers, 99 + i))"
   ]
  },
  {
   "cell_type": "markdown",
   "metadata": {},
   "source": [
    "We can conclude that 90% of people have upto 40 followers."
   ]
  },
  {
   "cell_type": "markdown",
   "metadata": {},
   "source": [
    "*2. Number of people each person is following.*"
   ]
  },
  {
   "cell_type": "code",
   "execution_count": 11,
   "metadata": {},
   "outputs": [
    {
     "data": {
      "image/png": "[encoded data removed]",
      "text/plain": [
       "<Figure size 1080x432 with 1 Axes>"
      ]
     },
     "metadata": {
      "needs_background": "light"
     },
     "output_type": "display_data"
    }
   ],
   "source": [
    "no_of_followees = sorted(list(dict(g.out_degree()).values()))\n",
    "plt.figure(figsize = (15, 6))\n",
    "plt.plot(no_of_followees)\n",
    "plt.xlabel('Index No.')\n",
    "plt.ylabel('No. of people each person is following')\n",
    "plt.show()"
   ]
  },
  {
   "cell_type": "code",
   "execution_count": 12,
   "metadata": {},
   "outputs": [
    {
     "name": "stdout",
     "output_type": "stream",
     "text": [
      "90 th percentile is: 12.0\n",
      "91 th percentile is: 13.0\n",
      "92 th percentile is: 14.0\n",
      "93 th percentile is: 15.0\n",
      "94 th percentile is: 17.0\n",
      "95 th percentile is: 19.0\n",
      "96 th percentile is: 21.0\n",
      "97 th percentile is: 24.0\n",
      "98 th percentile is: 29.0\n",
      "99 th percentile is: 40.0\n",
      "100 th percentile is: 1566.0\n"
     ]
    }
   ],
   "source": [
    "for i in range(90, 101):\n",
    "    print(i, 'th percentile is:', np.percentile(no_of_followees, i))"
   ]
  },
  {
   "cell_type": "code",
   "execution_count": 13,
   "metadata": {},
   "outputs": [
    {
     "name": "stdout",
     "output_type": "stream",
     "text": [
      "99.1 th percentile is: 42.0\n",
      "99.2 th percentile is: 45.0\n",
      "99.3 th percentile is: 48.0\n",
      "99.4 th percentile is: 52.0\n",
      "99.5 th percentile is: 56.0\n",
      "99.6 th percentile is: 63.0\n",
      "99.7 th percentile is: 73.0\n",
      "99.8 th percentile is: 90.0\n",
      "99.9 th percentile is: 123.0\n",
      "100.0 th percentile is: 1566.0\n"
     ]
    }
   ],
   "source": [
    "for i in np.arange(1, 11)/10:\n",
    "    print(99 + i, 'th percentile is:', np.percentile(no_of_followees, 99 + i))"
   ]
  },
  {
   "cell_type": "markdown",
   "metadata": {},
   "source": [
    "Percentage of people with 0 followers."
   ]
  },
  {
   "cell_type": "code",
   "execution_count": 14,
   "metadata": {},
   "outputs": [
    {
     "data": {
      "text/plain": [
       "10.097786512871734"
      ]
     },
     "execution_count": 14,
     "metadata": {},
     "output_type": "execute_result"
    }
   ],
   "source": [
    "100*(sum(np.array(no_of_followers) == 0) / len(no_of_followers))"
   ]
  },
  {
   "cell_type": "markdown",
   "metadata": {},
   "source": [
    "Percentage of people with 0 followees."
   ]
  },
  {
   "cell_type": "code",
   "execution_count": 15,
   "metadata": {},
   "outputs": [
    {
     "data": {
      "text/plain": [
       "14.741115442858524"
      ]
     },
     "execution_count": 15,
     "metadata": {},
     "output_type": "execute_result"
    }
   ],
   "source": [
    "100*(sum(np.array(no_of_followees) == 0) / len(no_of_followees))"
   ]
  },
  {
   "cell_type": "markdown",
   "metadata": {},
   "source": [
    "*Posing a problem as classification problem: Generating some edges which are not present in graph for supervised learning*"
   ]
  },
  {
   "cell_type": "code",
   "execution_count": 16,
   "metadata": {},
   "outputs": [],
   "source": [
    "len_of_dataset = len(pd.read_csv('data/after_eda/train_woheader.csv', header = None))\n",
    "total_nodes = len(list(g.nodes))"
   ]
  },
  {
   "cell_type": "code",
   "execution_count": 17,
   "metadata": {},
   "outputs": [],
   "source": [
    "#'''\n",
    "r = csv.reader(open('data/after_eda/train_woheader.csv', 'r'))\n",
    "edges = {}\n",
    "for edge in r:\n",
    "    edges[(edge[0], edge[1])] = 1\n",
    "missing_edges = set()\n",
    "while (len(missing_edges) < len_of_dataset):\n",
    "    a = random.randint(1, total_nodes)\n",
    "    b = random.randint(1, total_nodes)\n",
    "    temp = edges.get((a,b),-1)\n",
    "    if temp == -1 and a != b:\n",
    "        try:\n",
    "            if nx.shortest_path_length(g, source = a, target = b) > 2:\n",
    "                missing_edges.add((a, b))\n",
    "            else:\n",
    "                continue\n",
    "        except:\n",
    "            missing_edges.add((a, b))\n",
    "    else:\n",
    "        continue\n",
    "#'''"
   ]
  },
  {
   "cell_type": "code",
   "execution_count": 25,
   "metadata": {},
   "outputs": [],
   "source": [
    "df_neg = pd.DataFrame(missing_edges, columns = ['Source', 'Target'])\n",
    "df_neg['Label'] = 0"
   ]
  },
  {
   "cell_type": "code",
   "execution_count": 19,
   "metadata": {},
   "outputs": [],
   "source": [
    "df_pos = pd.read_csv('data/after_eda/train_woheader.csv', header = None)\n",
    "df_pos.columns = ['Source', 'Target']\n",
    "df_pos['Label'] = 1"
   ]
  },
  {
   "cell_type": "code",
   "execution_count": 20,
   "metadata": {},
   "outputs": [
    {
     "data": {
      "text/html": [
       "<div>\n",
       "<style scoped>\n",
       "    .dataframe tbody tr th:only-of-type {\n",
       "        vertical-align: middle;\n",
       "    }\n",
       "\n",
       "    .dataframe tbody tr th {\n",
       "        vertical-align: top;\n",
       "    }\n",
       "\n",
       "    .dataframe thead th {\n",
       "        text-align: right;\n",
       "    }\n",
       "</style>\n",
       "<table border=\"1\" class=\"dataframe\">\n",
       "  <thead>\n",
       "    <tr style=\"text-align: right;\">\n",
       "      <th></th>\n",
       "      <th>Source</th>\n",
       "      <th>Target</th>\n",
       "      <th>Label</th>\n",
       "    </tr>\n",
       "  </thead>\n",
       "  <tbody>\n",
       "    <tr>\n",
       "      <th>0</th>\n",
       "      <td>1</td>\n",
       "      <td>690569</td>\n",
       "      <td>1</td>\n",
       "    </tr>\n",
       "    <tr>\n",
       "      <th>1</th>\n",
       "      <td>1</td>\n",
       "      <td>315892</td>\n",
       "      <td>1</td>\n",
       "    </tr>\n",
       "    <tr>\n",
       "      <th>2</th>\n",
       "      <td>1</td>\n",
       "      <td>189226</td>\n",
       "      <td>1</td>\n",
       "    </tr>\n",
       "    <tr>\n",
       "      <th>3</th>\n",
       "      <td>2</td>\n",
       "      <td>834328</td>\n",
       "      <td>1</td>\n",
       "    </tr>\n",
       "    <tr>\n",
       "      <th>4</th>\n",
       "      <td>2</td>\n",
       "      <td>1615927</td>\n",
       "      <td>1</td>\n",
       "    </tr>\n",
       "  </tbody>\n",
       "</table>\n",
       "</div>"
      ],
      "text/plain": [
       "   Source   Target  Label\n",
       "0       1   690569      1\n",
       "1       1   315892      1\n",
       "2       1   189226      1\n",
       "3       2   834328      1\n",
       "4       2  1615927      1"
      ]
     },
     "execution_count": 20,
     "metadata": {},
     "output_type": "execute_result"
    }
   ],
   "source": [
    "df_pos.head()"
   ]
  },
  {
   "cell_type": "code",
   "execution_count": 26,
   "metadata": {},
   "outputs": [],
   "source": [
    "df = pd.concat([df_pos, df_neg], axis = 0)"
   ]
  },
  {
   "cell_type": "code",
   "execution_count": 27,
   "metadata": {},
   "outputs": [],
   "source": [
    "df.to_csv('df.csv', header = False, index = False)"
   ]
  },
  {
   "cell_type": "code",
   "execution_count": 3,
   "metadata": {},
   "outputs": [
    {
     "data": {
      "text/html": [
       "<div>\n",
       "<style scoped>\n",
       "    .dataframe tbody tr th:only-of-type {\n",
       "        vertical-align: middle;\n",
       "    }\n",
       "\n",
       "    .dataframe tbody tr th {\n",
       "        vertical-align: top;\n",
       "    }\n",
       "\n",
       "    .dataframe thead th {\n",
       "        text-align: right;\n",
       "    }\n",
       "</style>\n",
       "<table border=\"1\" class=\"dataframe\">\n",
       "  <thead>\n",
       "    <tr style=\"text-align: right;\">\n",
       "      <th></th>\n",
       "      <th>Source</th>\n",
       "      <th>Target</th>\n",
       "      <th>Label</th>\n",
       "    </tr>\n",
       "  </thead>\n",
       "  <tbody>\n",
       "    <tr>\n",
       "      <th>0</th>\n",
       "      <td>1</td>\n",
       "      <td>690569</td>\n",
       "      <td>1</td>\n",
       "    </tr>\n",
       "    <tr>\n",
       "      <th>1</th>\n",
       "      <td>1</td>\n",
       "      <td>315892</td>\n",
       "      <td>1</td>\n",
       "    </tr>\n",
       "    <tr>\n",
       "      <th>2</th>\n",
       "      <td>1</td>\n",
       "      <td>189226</td>\n",
       "      <td>1</td>\n",
       "    </tr>\n",
       "    <tr>\n",
       "      <th>3</th>\n",
       "      <td>2</td>\n",
       "      <td>834328</td>\n",
       "      <td>1</td>\n",
       "    </tr>\n",
       "    <tr>\n",
       "      <th>4</th>\n",
       "      <td>2</td>\n",
       "      <td>1615927</td>\n",
       "      <td>1</td>\n",
       "    </tr>\n",
       "  </tbody>\n",
       "</table>\n",
       "</div>"
      ],
      "text/plain": [
       "   Source   Target  Label\n",
       "0       1   690569      1\n",
       "1       1   315892      1\n",
       "2       1   189226      1\n",
       "3       2   834328      1\n",
       "4       2  1615927      1"
      ]
     },
     "execution_count": 3,
     "metadata": {},
     "output_type": "execute_result"
    }
   ],
   "source": [
    "df_final = pd.read_csv('df.csv', header = None)\n",
    "df_final.columns = ['Source', 'Target', 'Label']\n",
    "df_final.head()"
   ]
  },
  {
   "cell_type": "markdown",
   "metadata": {},
   "source": [
    "*Model Featurization*"
   ]
  },
  {
   "cell_type": "markdown",
   "metadata": {},
   "source": [
    "1. Jaccard Distance : The Jaccard similarity index (sometimes called the Jaccard similarity coefficient) compares members or two sets to see which members are shared and which are distinct. It’s a measure of similarity for the two sets of data, with a range from 0% to 100%. The higher the percentage, the more similar the two populations."
   ]
  },
  {
   "cell_type": "code",
   "execution_count": 4,
   "metadata": {},
   "outputs": [],
   "source": [
    "# For followees\n",
    "def jaccard_for_followees(a, b):\n",
    "    try:\n",
    "        if len(set(g.successors(a))) == 0  | len(set(g.successors(b))) == 0:\n",
    "            return 0\n",
    "        sim = (len(set(g.successors(a)).intersection(set(g.successors(b)))))/(len(set(g.successors(a)).union(set(g.successors(b)))))\n",
    "    except:\n",
    "        return 0\n",
    "    return sim"
   ]
  },
  {
   "cell_type": "code",
   "execution_count": 5,
   "metadata": {},
   "outputs": [],
   "source": [
    "df_final['Jaccard_followees'] = df_final.apply(lambda row : jaccard_for_followees(row['Source'], row['Target']), axis = 1)"
   ]
  },
  {
   "cell_type": "code",
   "execution_count": 6,
   "metadata": {},
   "outputs": [],
   "source": [
    "# For followers\n",
    "def jaccard_for_followers(a, b):\n",
    "    try:\n",
    "        if len(set(g.predecessors(a))) == 0  | len(set(g.predecessors(b))) == 0:\n",
    "            return 0\n",
    "        sim = (len(set(g.predecessors(a)).intersection(set(g.predecessors(b)))))/(len(set(g.predecessors(a)).union(set(g.predecessors(b)))))\n",
    "        return sim\n",
    "    except:\n",
    "        return 0"
   ]
  },
  {
   "cell_type": "code",
   "execution_count": 7,
   "metadata": {},
   "outputs": [],
   "source": [
    "df_final['Jaccard_followers'] = df_final.apply(lambda row : jaccard_for_followees(row['Source'], row['Target']), axis = 1)"
   ]
  },
  {
   "cell_type": "markdown",
   "metadata": {},
   "source": [
    "2. Cosine Similarity"
   ]
  },
  {
   "cell_type": "code",
   "execution_count": 8,
   "metadata": {},
   "outputs": [],
   "source": [
    "# For followees\n",
    "def cosine_for_followees(a, b):\n",
    "    try:\n",
    "        if len(set(g.successors(a))) == 0  | len(set(g.successors(b))) == 0:\n",
    "            return 0\n",
    "        sim = (len(set(g.successors(a)).intersection(set(g.successors(b)))))/(math.sqrt(len(set(g.successors(a)))*len((set(g.successors(b))))))\n",
    "        return sim\n",
    "    except:\n",
    "        return 0"
   ]
  },
  {
   "cell_type": "code",
   "execution_count": 9,
   "metadata": {},
   "outputs": [],
   "source": [
    "df_final['Cosine_followees'] = df_final.apply(lambda row : cosine_for_followees(row['Source'], row['Target']), axis = 1)"
   ]
  },
  {
   "cell_type": "code",
   "execution_count": 10,
   "metadata": {},
   "outputs": [],
   "source": [
    "# For followers\n",
    "def cosine_for_followers(a, b):\n",
    "    try:\n",
    "        if len(set(g.predecessors(a))) == 0  | len(set(g.predecessors(b))) == 0:\n",
    "            return 0\n",
    "        sim = (len(set(g.predecessors(a)).intersection(set(g.predecessors(b)))))/(math.sqrt(len(set(g.predecessors(a)))*len((set(g.predecessors(b))))))\n",
    "        return sim\n",
    "    except:\n",
    "        return 0"
   ]
  },
  {
   "cell_type": "code",
   "execution_count": 11,
   "metadata": {},
   "outputs": [],
   "source": [
    "df_final['Cosine_followers'] = df_final.apply(lambda row : cosine_for_followers(row['Source'], row['Target']), axis = 1)"
   ]
  },
  {
   "cell_type": "markdown",
   "metadata": {},
   "source": [
    "2. Shortest path between 2 nodes."
   ]
  },
  {
   "cell_type": "code",
   "execution_count": 12,
   "metadata": {},
   "outputs": [],
   "source": [
    "def compute_shortest_path_length(a, b):\n",
    "    try:\n",
    "        if g.has_edge(a, b):\n",
    "            g.remove_edge(a, b)\n",
    "            p = nx.shortest_path_length(g, source = a, target = b)\n",
    "            g.add_edge(a, b)\n",
    "        else:\n",
    "            p = nx.shortest_path_length(g, source = a, target = b)\n",
    "        return p\n",
    "    except:\n",
    "        return -1"
   ]
  },
  {
   "cell_type": "code",
   "execution_count": 13,
   "metadata": {},
   "outputs": [],
   "source": [
    "df_final['Shortest_distance'] = df_final.apply(lambda row : compute_shortest_path_length(row['Source'], row['Target']), axis = 1)"
   ]
  },
  {
   "cell_type": "markdown",
   "metadata": {},
   "source": [
    "3. Adamic / Adar Index"
   ]
  },
  {
   "cell_type": "code",
   "execution_count": 18,
   "metadata": {},
   "outputs": [],
   "source": [
    "def calculate_adar_index(a, b):\n",
    "    s = 0\n",
    "    try:\n",
    "        n = list(set(g.successors(a)).intersection(set(g.successors(b))))\n",
    "        if len(n) != 0:\n",
    "            for i in n:\n",
    "                s = s + (1/np.log10(len(list(g.predecessors(i)))))\n",
    "            return s\n",
    "        else:\n",
    "            return 0\n",
    "    except:\n",
    "        return 0"
   ]
  },
  {
   "cell_type": "code",
   "execution_count": 19,
   "metadata": {},
   "outputs": [],
   "source": [
    "df_final['Adar_index'] = df_final.apply(lambda row : calculate_adar_index(row['Source'], row['Target']), axis = 1)"
   ]
  },
  {
   "cell_type": "markdown",
   "metadata": {},
   "source": [
    "4. Feature representing whether the target node is following back or not?"
   ]
  },
  {
   "cell_type": "code",
   "execution_count": 22,
   "metadata": {},
   "outputs": [],
   "source": [
    "def follows_back(a, b):\n",
    "    if g.has_edge(b, a):\n",
    "        return 1\n",
    "    else:\n",
    "        return 0"
   ]
  },
  {
   "cell_type": "code",
   "execution_count": 23,
   "metadata": {},
   "outputs": [],
   "source": [
    "df_final['Follows back'] = df_final.apply(lambda row : follows_back(row['Source'], row['Target']), axis = 1)"
   ]
  },
  {
   "cell_type": "markdown",
   "metadata": {},
   "source": [
    "5. Adding features which depend on the number of followers and followees."
   ]
  },
  {
   "cell_type": "code",
   "execution_count": null,
   "metadata": {},
   "outputs": [],
   "source": [
    "num_followers_s = []\n",
    "num_followees_s = []\n",
    "num_followers_d = []\n",
    "num_followees_d = []\n",
    "inter_followers = []\n",
    "inter_followees = []\n",
    "\n",
    "for i, row in df_final.iterrows():\n",
    "    try:\n",
    "        s1 = set(g.predecessors(row['Source']))\n",
    "        s2 = set(g.successors(row['Source']))\n",
    "    except:\n",
    "        s1 = set()\n",
    "        s2 = set()\n",
    "    try:\n",
    "        d1 = set(g.predecessors(row['Target']))\n",
    "        d2 = set(g.successors(row['Target']))\n",
    "    except:\n",
    "        d1 = set()\n",
    "        d2 = set()\n",
    "    num_followers_s.append(len(s1))\n",
    "    num_followees_s.append(len(s2))\n",
    "    num_followers_d.append(len(d1))\n",
    "    num_followees_d.append(len(d2))\n",
    "    inter_followers.append(len(s1.intersection(d1)))\n",
    "    inter_followees.append(len(s2.intersection(d2)))\n",
    "\n",
    "df_final['num_followers_s'] = num_followers_s\n",
    "df_final['num_followees_s'] = num_followees_s\n",
    "df_final['num_followers_d'] = num_followers_d\n",
    "df_final['num_followees_d'] = num_followees_d\n",
    "df_final['inter_followers'] = inter_followers\n",
    "df_final['inter_followees'] = inter_followees"
   ]
  },
  {
   "cell_type": "markdown",
   "metadata": {},
   "source": [
    "7. Weight Features:\n",
    "In order to determine the similarity of nodes an edge weight value can be calculated between nodes. Edge weight decreases as the neighbor count goes up. Intuitively, consider one million people following a celebrity on a social network then chances are most of them never met each other or the celebrity. On the other hand, if a user has 30 contacts in his/her social network, the chances are higher that many of them know each other. \n",
    "\n",
    "Credit: Graph - based Features for Supervised Link Prediction William Cukierski, Benjamin Hamner, Bo Yang.\n",
    "\n",
    "𝑊 = 1/(sqrt(1 + |X|))"
   ]
  },
  {
   "cell_type": "markdown",
   "metadata": {},
   "source": [
    "In case we don't get any values for any node, we will use the median value for imputation."
   ]
  },
  {
   "cell_type": "code",
   "execution_count": 12,
   "metadata": {},
   "outputs": [],
   "source": [
    "graph = g.nodes\n",
    "Weight_in = {}\n",
    "Weight_out = {}\n",
    "for i in  graph:\n",
    "    s1 = set(g.predecessors(i))\n",
    "    Weight_in[i] = 1.0/(np.sqrt(1 + len(s1)))\n",
    "    s2 = set(g.successors(i))\n",
    "    Weight_out[i] = 1.0/(np.sqrt(1 + len(s2)))\n",
    "    \n",
    "mean_weight_in = np.median(list(Weight_in.values()))\n",
    "mean_weight_out = np.median(list(Weight_out.values()))\n",
    "\n",
    "df_final['weight_in'] = df_final['Target'].apply(lambda x : Weight_in.get(x, mean_weight_in))\n",
    "df_final['weight_out'] = df_final['Source'].apply(lambda x : Weight_out.get(x, mean_weight_out))\n",
    "\n",
    "# Adding additional ratio feature \n",
    "df_final['weight_ratio'] = df_final['weight_in']/df_final['weight_out']"
   ]
  },
  {
   "cell_type": "markdown",
   "metadata": {},
   "source": [
    "Since, after feature engineering, we have a huge dataset (more than 2 GB), so from here I have decided to choose only a 100,000 rows only."
   ]
  },
  {
   "cell_type": "code",
   "execution_count": 2,
   "metadata": {},
   "outputs": [],
   "source": [
    "skiprows = random.sample(list(range(0, 18875036)), 18775036)"
   ]
  },
  {
   "cell_type": "code",
   "execution_count": 14,
   "metadata": {},
   "outputs": [
    {
     "data": {
      "text/html": [
       "<div>\n",
       "<style scoped>\n",
       "    .dataframe tbody tr th:only-of-type {\n",
       "        vertical-align: middle;\n",
       "    }\n",
       "\n",
       "    .dataframe tbody tr th {\n",
       "        vertical-align: top;\n",
       "    }\n",
       "\n",
       "    .dataframe thead th {\n",
       "        text-align: right;\n",
       "    }\n",
       "</style>\n",
       "<table border=\"1\" class=\"dataframe\">\n",
       "  <thead>\n",
       "    <tr style=\"text-align: right;\">\n",
       "      <th></th>\n",
       "      <th>Source</th>\n",
       "      <th>Target</th>\n",
       "      <th>Label</th>\n",
       "      <th>Jaccard_followees</th>\n",
       "      <th>Jaccard_followers</th>\n",
       "      <th>Cosine_followees</th>\n",
       "      <th>Cosine_followers</th>\n",
       "      <th>Shortest_distance</th>\n",
       "      <th>Weakly connected</th>\n",
       "      <th>Adar_index</th>\n",
       "      <th>...</th>\n",
       "      <th>num_followees_s</th>\n",
       "      <th>num_followers_d</th>\n",
       "      <th>num_followees_d</th>\n",
       "      <th>inter_followers</th>\n",
       "      <th>inter_followees</th>\n",
       "      <th>weight_in</th>\n",
       "      <th>weight_out</th>\n",
       "      <th>weight_ratio</th>\n",
       "      <th>prefrential_attachment_followees</th>\n",
       "      <th>prefrential_attachment_followers</th>\n",
       "    </tr>\n",
       "  </thead>\n",
       "  <tbody>\n",
       "    <tr>\n",
       "      <th>0</th>\n",
       "      <td>119</td>\n",
       "      <td>875039</td>\n",
       "      <td>1</td>\n",
       "      <td>0.277778</td>\n",
       "      <td>0.277778</td>\n",
       "      <td>0.435194</td>\n",
       "      <td>0.400000</td>\n",
       "      <td>2</td>\n",
       "      <td>0.0</td>\n",
       "      <td>4.975204</td>\n",
       "      <td>...</td>\n",
       "      <td>11</td>\n",
       "      <td>15</td>\n",
       "      <td>12</td>\n",
       "      <td>6</td>\n",
       "      <td>5</td>\n",
       "      <td>0.250000</td>\n",
       "      <td>0.288675</td>\n",
       "      <td>0.866025</td>\n",
       "      <td>0</td>\n",
       "      <td>0</td>\n",
       "    </tr>\n",
       "    <tr>\n",
       "      <th>1</th>\n",
       "      <td>133</td>\n",
       "      <td>1210717</td>\n",
       "      <td>1</td>\n",
       "      <td>0.000000</td>\n",
       "      <td>0.000000</td>\n",
       "      <td>0.000000</td>\n",
       "      <td>0.000000</td>\n",
       "      <td>6</td>\n",
       "      <td>0.0</td>\n",
       "      <td>0.000000</td>\n",
       "      <td>...</td>\n",
       "      <td>7</td>\n",
       "      <td>12</td>\n",
       "      <td>8</td>\n",
       "      <td>0</td>\n",
       "      <td>0</td>\n",
       "      <td>0.277350</td>\n",
       "      <td>0.353553</td>\n",
       "      <td>0.784465</td>\n",
       "      <td>0</td>\n",
       "      <td>0</td>\n",
       "    </tr>\n",
       "    <tr>\n",
       "      <th>2</th>\n",
       "      <td>171</td>\n",
       "      <td>1131806</td>\n",
       "      <td>1</td>\n",
       "      <td>0.019802</td>\n",
       "      <td>0.019802</td>\n",
       "      <td>0.040242</td>\n",
       "      <td>0.019676</td>\n",
       "      <td>2</td>\n",
       "      <td>0.0</td>\n",
       "      <td>1.070989</td>\n",
       "      <td>...</td>\n",
       "      <td>38</td>\n",
       "      <td>63</td>\n",
       "      <td>65</td>\n",
       "      <td>1</td>\n",
       "      <td>2</td>\n",
       "      <td>0.125000</td>\n",
       "      <td>0.160128</td>\n",
       "      <td>0.780625</td>\n",
       "      <td>0</td>\n",
       "      <td>0</td>\n",
       "    </tr>\n",
       "    <tr>\n",
       "      <th>3</th>\n",
       "      <td>172</td>\n",
       "      <td>1556441</td>\n",
       "      <td>1</td>\n",
       "      <td>0.047619</td>\n",
       "      <td>0.047619</td>\n",
       "      <td>0.158114</td>\n",
       "      <td>0.147442</td>\n",
       "      <td>2</td>\n",
       "      <td>0.0</td>\n",
       "      <td>3.321928</td>\n",
       "      <td>...</td>\n",
       "      <td>20</td>\n",
       "      <td>2</td>\n",
       "      <td>2</td>\n",
       "      <td>1</td>\n",
       "      <td>1</td>\n",
       "      <td>0.577350</td>\n",
       "      <td>0.218218</td>\n",
       "      <td>2.645751</td>\n",
       "      <td>0</td>\n",
       "      <td>0</td>\n",
       "    </tr>\n",
       "    <tr>\n",
       "      <th>4</th>\n",
       "      <td>179</td>\n",
       "      <td>232801</td>\n",
       "      <td>1</td>\n",
       "      <td>0.225806</td>\n",
       "      <td>0.225806</td>\n",
       "      <td>0.368421</td>\n",
       "      <td>0.317554</td>\n",
       "      <td>2</td>\n",
       "      <td>0.0</td>\n",
       "      <td>6.305179</td>\n",
       "      <td>...</td>\n",
       "      <td>19</td>\n",
       "      <td>21</td>\n",
       "      <td>19</td>\n",
       "      <td>6</td>\n",
       "      <td>7</td>\n",
       "      <td>0.213201</td>\n",
       "      <td>0.223607</td>\n",
       "      <td>0.953463</td>\n",
       "      <td>0</td>\n",
       "      <td>0</td>\n",
       "    </tr>\n",
       "  </tbody>\n",
       "</table>\n",
       "<p>5 rows × 22 columns</p>\n",
       "</div>"
      ],
      "text/plain": [
       "   Source   Target  Label  Jaccard_followees  Jaccard_followers  \\\n",
       "0     119   875039      1           0.277778           0.277778   \n",
       "1     133  1210717      1           0.000000           0.000000   \n",
       "2     171  1131806      1           0.019802           0.019802   \n",
       "3     172  1556441      1           0.047619           0.047619   \n",
       "4     179   232801      1           0.225806           0.225806   \n",
       "\n",
       "   Cosine_followees  Cosine_followers  Shortest_distance  Weakly connected  \\\n",
       "0          0.435194          0.400000                  2               0.0   \n",
       "1          0.000000          0.000000                  6               0.0   \n",
       "2          0.040242          0.019676                  2               0.0   \n",
       "3          0.158114          0.147442                  2               0.0   \n",
       "4          0.368421          0.317554                  2               0.0   \n",
       "\n",
       "   Adar_index  ...  num_followees_s  num_followers_d  num_followees_d  \\\n",
       "0    4.975204  ...               11               15               12   \n",
       "1    0.000000  ...                7               12                8   \n",
       "2    1.070989  ...               38               63               65   \n",
       "3    3.321928  ...               20                2                2   \n",
       "4    6.305179  ...               19               21               19   \n",
       "\n",
       "   inter_followers  inter_followees  weight_in  weight_out  weight_ratio  \\\n",
       "0                6                5   0.250000    0.288675      0.866025   \n",
       "1                0                0   0.277350    0.353553      0.784465   \n",
       "2                1                2   0.125000    0.160128      0.780625   \n",
       "3                1                1   0.577350    0.218218      2.645751   \n",
       "4                6                7   0.213201    0.223607      0.953463   \n",
       "\n",
       "   prefrential_attachment_followees  prefrential_attachment_followers  \n",
       "0                                 0                                 0  \n",
       "1                                 0                                 0  \n",
       "2                                 0                                 0  \n",
       "3                                 0                                 0  \n",
       "4                                 0                                 0  \n",
       "\n",
       "[5 rows x 22 columns]"
      ]
     },
     "execution_count": 14,
     "metadata": {},
     "output_type": "execute_result"
    }
   ],
   "source": [
    "df_final_sample = pd.read_csv('df.csv', skiprows = skiprows)\n",
    "df_final_sample.columns = ['Source', 'Target', 'Label', 'Jaccard_followees', 'Jaccard_followers',\n",
    "                           'Cosine_followees', 'Cosine_followers', 'Shortest_distance',\n",
    "                           'Weakly connected', 'Adar_index', 'Follows back', 'num_followers_s',\n",
    "                           'num_followees_s', 'num_followers_d', 'num_followees_d',\n",
    "                           'inter_followers', 'inter_followees', 'weight_in', 'weight_out',\n",
    "                           'weight_ratio', 'prefrential_attachment_followees',\n",
    "                           'prefrential_attachment_followers']\n",
    "df_final_sample.head()"
   ]
  },
  {
   "cell_type": "code",
   "execution_count": 37,
   "metadata": {},
   "outputs": [
    {
     "data": {
      "text/plain": [
       "Index(['Source', 'Target', 'Label', 'Jaccard_followees', 'Jaccard_followers',\n",
       "       'Cosine_followees', 'Cosine_followers', 'Shortest_distance',\n",
       "       'Weakly connected', 'Adar_index', 'Follows back', 'num_followers_s',\n",
       "       'num_followees_s', 'num_followers_d', 'num_followees_d',\n",
       "       'inter_followers', 'inter_followees', 'weight_in', 'weight_out',\n",
       "       'weight_ratio', 'prefrential_attachment_followees',\n",
       "       'prefrential_attachment_followers'],\n",
       "      dtype='object')"
      ]
     },
     "execution_count": 37,
     "metadata": {},
     "output_type": "execute_result"
    }
   ],
   "source": [
    "df_final = pd.read_csv('df_sample.csv')\n",
    "df_final.columns"
   ]
  },
  {
   "cell_type": "markdown",
   "metadata": {},
   "source": [
    "8. SVD features for both Source and Target."
   ]
  },
  {
   "cell_type": "code",
   "execution_count": 20,
   "metadata": {},
   "outputs": [],
   "source": [
    "sadj_col = sorted(g.nodes())\n",
    "sadj_dict = {val : idx for idx, val in enumerate(sadj_col)}"
   ]
  },
  {
   "cell_type": "code",
   "execution_count": 21,
   "metadata": {},
   "outputs": [],
   "source": [
    "def svd(x, U):\n",
    "    try:\n",
    "        z = sadj_dict[x]\n",
    "        return U[z]\n",
    "    except:\n",
    "        return [0, 0, 0, 0, 0, 0]"
   ]
  },
  {
   "cell_type": "code",
   "execution_count": 22,
   "metadata": {},
   "outputs": [],
   "source": [
    "Adj = nx.adjacency_matrix(g, nodelist = sadj_col).asfptype()"
   ]
  },
  {
   "cell_type": "code",
   "execution_count": 23,
   "metadata": {},
   "outputs": [
    {
     "name": "stdout",
     "output_type": "stream",
     "text": [
      "Adjacency matrix Shape (1862220, 1862220)\n",
      "U Shape (1862220, 6)\n",
      "V Shape (6, 1862220)\n",
      "s Shape (6,)\n"
     ]
    }
   ],
   "source": [
    "U, s, V = svds(Adj, k = 6)\n",
    "print('Adjacency matrix Shape', Adj.shape)\n",
    "print('U Shape', U.shape)\n",
    "print('V Shape', V.shape)\n",
    "print('s Shape', s.shape)"
   ]
  },
  {
   "cell_type": "code",
   "execution_count": 38,
   "metadata": {},
   "outputs": [],
   "source": [
    "df_final[['svd_u_s_1', 'svd_u_s_2','svd_u_s_3', 'svd_u_s_4', 'svd_u_s_5', 'svd_u_s_6']] = df_final['Source'].apply(lambda x : svd(x, U)).apply(pd.Series)"
   ]
  },
  {
   "cell_type": "code",
   "execution_count": 39,
   "metadata": {},
   "outputs": [],
   "source": [
    "df_final[['svd_u_d_1', 'svd_u_d_2', 'svd_u_d_3', 'svd_u_d_4', 'svd_u_d_5','svd_u_d_6']] = df_final['Target'].apply(lambda x: svd(x, U)).apply(pd.Series)"
   ]
  },
  {
   "cell_type": "code",
   "execution_count": 40,
   "metadata": {},
   "outputs": [],
   "source": [
    "df_final[['svd_v_s_1','svd_v_s_2', 'svd_v_s_3', 'svd_v_s_4', 'svd_v_s_5', 'svd_v_s_6']] = df_final['Source'].apply(lambda x: svd(x, V.T)).apply(pd.Series)"
   ]
  },
  {
   "cell_type": "code",
   "execution_count": 41,
   "metadata": {},
   "outputs": [],
   "source": [
    "df_final[['svd_v_d_1', 'svd_v_d_2', 'svd_v_d_3', 'svd_v_d_4', 'svd_v_d_5','svd_v_d_6']] = df_final['Target'].apply(lambda x: svd(x, V.T)).apply(pd.Series)"
   ]
  },
  {
   "cell_type": "markdown",
   "metadata": {},
   "source": [
    "9. Prefrential Attachment"
   ]
  },
  {
   "cell_type": "code",
   "execution_count": 25,
   "metadata": {},
   "outputs": [],
   "source": [
    "def prefrential_attachment_followees(a, b):\n",
    "    try:\n",
    "        if len(set(train_graph.successors(a))) == 0  | len(set(train_graph.successors(b))) == 0:\n",
    "            return 0\n",
    "        sim = len(set(train_graph.successors(a)))*len(set(train_graph.successors(b)))\n",
    "        return sim\n",
    "    except:\n",
    "        return 0\n",
    "    \n",
    "def prefrential_attachment_followers(a, b):\n",
    "    try:\n",
    "        if len(set(train_graph.predecessors(a))) == 0  | len(set(train_graph.predecessors(b))) == 0:\n",
    "            return 0\n",
    "        sim = len(set(train_graph.predecessors(a)))*len(set(train_graph.predecessors(b)))\n",
    "        return sim\n",
    "    except:\n",
    "        return 0"
   ]
  },
  {
   "cell_type": "code",
   "execution_count": 26,
   "metadata": {},
   "outputs": [],
   "source": [
    "df_final['prefrential_attachment_followees'] = df_final.apply(lambda row : prefrential_attachment_followees(row['Source'], row['Target']), axis = 1)\n",
    "df_final['prefrential_attachment_followers'] = df_final.apply(lambda row : prefrential_attachment_followers(row['Source'], row['Target']), axis = 1)"
   ]
  },
  {
   "cell_type": "markdown",
   "metadata": {},
   "source": [
    "10. Dot product of SVD features"
   ]
  },
  {
   "cell_type": "code",
   "execution_count": 42,
   "metadata": {},
   "outputs": [],
   "source": [
    "train_svd_s = df_final[['svd_u_s_1', 'svd_u_s_2', 'svd_u_s_3', 'svd_u_s_4', 'svd_u_s_5', 'svd_u_s_6', 'svd_v_s_1', 'svd_v_s_2', 'svd_v_s_3', 'svd_v_s_4', 'svd_v_s_5', 'svd_v_s_6']]\n",
    "train_svd_d = df_final[['svd_u_d_1', 'svd_u_d_2', 'svd_u_d_3', 'svd_u_d_4', 'svd_u_d_5', 'svd_u_d_6', 'svd_v_d_1', 'svd_v_d_2', 'svd_v_d_3', 'svd_v_d_4', 'svd_v_d_5', 'svd_v_d_6']]"
   ]
  },
  {
   "cell_type": "code",
   "execution_count": 43,
   "metadata": {},
   "outputs": [],
   "source": [
    "svd_dot_train = []\n",
    "for i in range(len(train_svd_s)):\n",
    "    svd_dot_train.append(sum(train_svd_s.values[i]*train_svd_d.values[i]))"
   ]
  },
  {
   "cell_type": "code",
   "execution_count": 44,
   "metadata": {},
   "outputs": [],
   "source": [
    "df_final['svd_dot'] = svd_dot_train"
   ]
  },
  {
   "cell_type": "markdown",
   "metadata": {},
   "source": [
    "Finally saving the sampled data into a csv file with name 'df_sample'."
   ]
  },
  {
   "cell_type": "code",
   "execution_count": 48,
   "metadata": {},
   "outputs": [],
   "source": [
    "df_final.to_csv('df_sample.csv', index = False)"
   ]
  },
  {
   "cell_type": "code",
   "execution_count": 53,
   "metadata": {},
   "outputs": [
    {
     "data": {
      "text/html": [
       "<div>\n",
       "<style scoped>\n",
       "    .dataframe tbody tr th:only-of-type {\n",
       "        vertical-align: middle;\n",
       "    }\n",
       "\n",
       "    .dataframe tbody tr th {\n",
       "        vertical-align: top;\n",
       "    }\n",
       "\n",
       "    .dataframe thead th {\n",
       "        text-align: right;\n",
       "    }\n",
       "</style>\n",
       "<table border=\"1\" class=\"dataframe\">\n",
       "  <thead>\n",
       "    <tr style=\"text-align: right;\">\n",
       "      <th></th>\n",
       "      <th>Source</th>\n",
       "      <th>Target</th>\n",
       "      <th>Label</th>\n",
       "      <th>Jaccard_followees</th>\n",
       "      <th>Jaccard_followers</th>\n",
       "      <th>Cosine_followees</th>\n",
       "      <th>Cosine_followers</th>\n",
       "      <th>Shortest_distance</th>\n",
       "      <th>Weakly connected</th>\n",
       "      <th>Adar_index</th>\n",
       "      <th>...</th>\n",
       "      <th>svd_v_s_4</th>\n",
       "      <th>svd_v_s_5</th>\n",
       "      <th>svd_v_s_6</th>\n",
       "      <th>svd_v_d_1</th>\n",
       "      <th>svd_v_d_2</th>\n",
       "      <th>svd_v_d_3</th>\n",
       "      <th>svd_v_d_4</th>\n",
       "      <th>svd_v_d_5</th>\n",
       "      <th>svd_v_d_6</th>\n",
       "      <th>svd_dot</th>\n",
       "    </tr>\n",
       "  </thead>\n",
       "  <tbody>\n",
       "    <tr>\n",
       "      <th>0</th>\n",
       "      <td>119</td>\n",
       "      <td>875039</td>\n",
       "      <td>1</td>\n",
       "      <td>0.277778</td>\n",
       "      <td>0.277778</td>\n",
       "      <td>0.435194</td>\n",
       "      <td>0.400000</td>\n",
       "      <td>2</td>\n",
       "      <td>0.0</td>\n",
       "      <td>4.975204</td>\n",
       "      <td>...</td>\n",
       "      <td>1.713615e-12</td>\n",
       "      <td>-4.108550e-12</td>\n",
       "      <td>-1.518989e-14</td>\n",
       "      <td>-1.645059e-12</td>\n",
       "      <td>3.033147e-12</td>\n",
       "      <td>3.488969e-10</td>\n",
       "      <td>1.673758e-12</td>\n",
       "      <td>-4.683631e-12</td>\n",
       "      <td>-1.422430e-14</td>\n",
       "      <td>2.649979e-20</td>\n",
       "    </tr>\n",
       "    <tr>\n",
       "      <th>1</th>\n",
       "      <td>133</td>\n",
       "      <td>1210717</td>\n",
       "      <td>1</td>\n",
       "      <td>0.000000</td>\n",
       "      <td>0.000000</td>\n",
       "      <td>0.000000</td>\n",
       "      <td>0.000000</td>\n",
       "      <td>6</td>\n",
       "      <td>0.0</td>\n",
       "      <td>0.000000</td>\n",
       "      <td>...</td>\n",
       "      <td>7.550085e-16</td>\n",
       "      <td>-1.213776e-15</td>\n",
       "      <td>-3.133035e-17</td>\n",
       "      <td>-1.409895e-13</td>\n",
       "      <td>4.182263e-12</td>\n",
       "      <td>1.363031e-09</td>\n",
       "      <td>1.573085e-13</td>\n",
       "      <td>-1.320560e-13</td>\n",
       "      <td>-2.291823e-14</td>\n",
       "      <td>1.256458e-21</td>\n",
       "    </tr>\n",
       "    <tr>\n",
       "      <th>2</th>\n",
       "      <td>171</td>\n",
       "      <td>1131806</td>\n",
       "      <td>1</td>\n",
       "      <td>0.019802</td>\n",
       "      <td>0.019802</td>\n",
       "      <td>0.040242</td>\n",
       "      <td>0.019676</td>\n",
       "      <td>2</td>\n",
       "      <td>0.0</td>\n",
       "      <td>1.070989</td>\n",
       "      <td>...</td>\n",
       "      <td>6.612150e-12</td>\n",
       "      <td>-1.605865e-10</td>\n",
       "      <td>-1.261696e-12</td>\n",
       "      <td>-3.262227e-11</td>\n",
       "      <td>2.091583e-11</td>\n",
       "      <td>6.073744e-05</td>\n",
       "      <td>7.004577e-12</td>\n",
       "      <td>-2.047030e-10</td>\n",
       "      <td>-1.954556e-12</td>\n",
       "      <td>2.615217e-09</td>\n",
       "    </tr>\n",
       "    <tr>\n",
       "      <th>3</th>\n",
       "      <td>172</td>\n",
       "      <td>1556441</td>\n",
       "      <td>1</td>\n",
       "      <td>0.047619</td>\n",
       "      <td>0.047619</td>\n",
       "      <td>0.158114</td>\n",
       "      <td>0.147442</td>\n",
       "      <td>2</td>\n",
       "      <td>0.0</td>\n",
       "      <td>3.321928</td>\n",
       "      <td>...</td>\n",
       "      <td>8.015757e-13</td>\n",
       "      <td>-3.009462e-12</td>\n",
       "      <td>-2.571068e-14</td>\n",
       "      <td>-1.082002e-13</td>\n",
       "      <td>2.957343e-13</td>\n",
       "      <td>1.138975e-11</td>\n",
       "      <td>1.551174e-15</td>\n",
       "      <td>-3.601165e-14</td>\n",
       "      <td>-6.286877e-17</td>\n",
       "      <td>4.150097e-21</td>\n",
       "    </tr>\n",
       "    <tr>\n",
       "      <th>4</th>\n",
       "      <td>179</td>\n",
       "      <td>232801</td>\n",
       "      <td>1</td>\n",
       "      <td>0.225806</td>\n",
       "      <td>0.225806</td>\n",
       "      <td>0.368421</td>\n",
       "      <td>0.317554</td>\n",
       "      <td>2</td>\n",
       "      <td>0.0</td>\n",
       "      <td>6.305179</td>\n",
       "      <td>...</td>\n",
       "      <td>6.488662e-13</td>\n",
       "      <td>-5.387808e-12</td>\n",
       "      <td>-9.573928e-15</td>\n",
       "      <td>-1.351383e-12</td>\n",
       "      <td>5.299936e-12</td>\n",
       "      <td>2.597988e-11</td>\n",
       "      <td>1.882403e-13</td>\n",
       "      <td>-6.083864e-13</td>\n",
       "      <td>-2.888575e-14</td>\n",
       "      <td>3.270107e-20</td>\n",
       "    </tr>\n",
       "  </tbody>\n",
       "</table>\n",
       "<p>5 rows × 47 columns</p>\n",
       "</div>"
      ],
      "text/plain": [
       "   Source   Target  Label  Jaccard_followees  Jaccard_followers  \\\n",
       "0     119   875039      1           0.277778           0.277778   \n",
       "1     133  1210717      1           0.000000           0.000000   \n",
       "2     171  1131806      1           0.019802           0.019802   \n",
       "3     172  1556441      1           0.047619           0.047619   \n",
       "4     179   232801      1           0.225806           0.225806   \n",
       "\n",
       "   Cosine_followees  Cosine_followers  Shortest_distance  Weakly connected  \\\n",
       "0          0.435194          0.400000                  2               0.0   \n",
       "1          0.000000          0.000000                  6               0.0   \n",
       "2          0.040242          0.019676                  2               0.0   \n",
       "3          0.158114          0.147442                  2               0.0   \n",
       "4          0.368421          0.317554                  2               0.0   \n",
       "\n",
       "   Adar_index  ...     svd_v_s_4     svd_v_s_5     svd_v_s_6     svd_v_d_1  \\\n",
       "0    4.975204  ...  1.713615e-12 -4.108550e-12 -1.518989e-14 -1.645059e-12   \n",
       "1    0.000000  ...  7.550085e-16 -1.213776e-15 -3.133035e-17 -1.409895e-13   \n",
       "2    1.070989  ...  6.612150e-12 -1.605865e-10 -1.261696e-12 -3.262227e-11   \n",
       "3    3.321928  ...  8.015757e-13 -3.009462e-12 -2.571068e-14 -1.082002e-13   \n",
       "4    6.305179  ...  6.488662e-13 -5.387808e-12 -9.573928e-15 -1.351383e-12   \n",
       "\n",
       "      svd_v_d_2     svd_v_d_3     svd_v_d_4     svd_v_d_5     svd_v_d_6  \\\n",
       "0  3.033147e-12  3.488969e-10  1.673758e-12 -4.683631e-12 -1.422430e-14   \n",
       "1  4.182263e-12  1.363031e-09  1.573085e-13 -1.320560e-13 -2.291823e-14   \n",
       "2  2.091583e-11  6.073744e-05  7.004577e-12 -2.047030e-10 -1.954556e-12   \n",
       "3  2.957343e-13  1.138975e-11  1.551174e-15 -3.601165e-14 -6.286877e-17   \n",
       "4  5.299936e-12  2.597988e-11  1.882403e-13 -6.083864e-13 -2.888575e-14   \n",
       "\n",
       "        svd_dot  \n",
       "0  2.649979e-20  \n",
       "1  1.256458e-21  \n",
       "2  2.615217e-09  \n",
       "3  4.150097e-21  \n",
       "4  3.270107e-20  \n",
       "\n",
       "[5 rows x 47 columns]"
      ]
     },
     "execution_count": 53,
     "metadata": {},
     "output_type": "execute_result"
    }
   ],
   "source": [
    "df_final = pd.read_csv('df_sample.csv')\n",
    "df_final.head()"
   ]
  },
  {
   "cell_type": "code",
   "execution_count": 55,
   "metadata": {},
   "outputs": [
    {
     "data": {
      "text/plain": [
       "Index(['Source', 'Target', 'Jaccard_followees', 'Jaccard_followers',\n",
       "       'Cosine_followees', 'Cosine_followers', 'Shortest_distance',\n",
       "       'Weakly connected', 'Adar_index', 'Follows back', 'num_followers_s',\n",
       "       'num_followees_s', 'num_followers_d', 'num_followees_d',\n",
       "       'inter_followers', 'inter_followees', 'weight_in', 'weight_out',\n",
       "       'weight_ratio', 'prefrential_attachment_followees',\n",
       "       'prefrential_attachment_followers', 'svd_u_s_1', 'svd_u_s_2',\n",
       "       'svd_u_s_3', 'svd_u_s_4', 'svd_u_s_5', 'svd_u_s_6', 'svd_u_d_1',\n",
       "       'svd_u_d_2', 'svd_u_d_3', 'svd_u_d_4', 'svd_u_d_5', 'svd_u_d_6',\n",
       "       'svd_v_s_1', 'svd_v_s_2', 'svd_v_s_3', 'svd_v_s_4', 'svd_v_s_5',\n",
       "       'svd_v_s_6', 'svd_v_d_1', 'svd_v_d_2', 'svd_v_d_3', 'svd_v_d_4',\n",
       "       'svd_v_d_5', 'svd_v_d_6', 'svd_dot'],\n",
       "      dtype='object')"
      ]
     },
     "execution_count": 55,
     "metadata": {},
     "output_type": "execute_result"
    }
   ],
   "source": [
    "columns = df_final.drop('Label', axis = 1).columns\n",
    "columns"
   ]
  },
  {
   "cell_type": "code",
   "execution_count": 64,
   "metadata": {},
   "outputs": [],
   "source": [
    "X = df_final.drop('Label', axis = 1).values\n",
    "y = df_final['Label'].values"
   ]
  },
  {
   "cell_type": "code",
   "execution_count": 70,
   "metadata": {},
   "outputs": [],
   "source": [
    "X_train, X_test, y_train, y_test = train_test_split(X, y, test_size = 0.3, random_state = 42)"
   ]
  },
  {
   "cell_type": "markdown",
   "metadata": {},
   "source": [
    "## ***Model Training***"
   ]
  },
  {
   "cell_type": "code",
   "execution_count": 74,
   "metadata": {},
   "outputs": [
    {
     "name": "stdout",
     "output_type": "stream",
     "text": [
      "[LightGBM] [Warning] Unknown parameter: min_samples_leaf\n",
      "[LightGBM] [Warning] Unknown parameter: min_samples_split\n",
      "[LightGBM] [Warning] Accuracy may be bad since you didn't explicitly set num_leaves OR 2^max_depth > num_leaves. (num_leaves=31).\n",
      "[LightGBM] [Warning] Unknown parameter: min_samples_leaf\n",
      "[LightGBM] [Warning] Unknown parameter: min_samples_split\n",
      "[LightGBM] [Warning] Accuracy may be bad since you didn't explicitly set num_leaves OR 2^max_depth > num_leaves. (num_leaves=31).\n",
      "[LightGBM] [Warning] Unknown parameter: min_samples_leaf\n",
      "[LightGBM] [Warning] Unknown parameter: min_samples_split\n",
      "[LightGBM] [Warning] Accuracy may be bad since you didn't explicitly set num_leaves OR 2^max_depth > num_leaves. (num_leaves=31).\n",
      "[LightGBM] [Warning] Unknown parameter: min_samples_leaf\n",
      "[LightGBM] [Warning] Unknown parameter: min_samples_split\n",
      "[LightGBM] [Warning] Accuracy may be bad since you didn't explicitly set num_leaves OR 2^max_depth > num_leaves. (num_leaves=31).\n",
      "[LightGBM] [Warning] Unknown parameter: min_samples_leaf\n",
      "[LightGBM] [Warning] Unknown parameter: min_samples_split\n",
      "[LightGBM] [Warning] Accuracy may be bad since you didn't explicitly set num_leaves OR 2^max_depth > num_leaves. (num_leaves=31).\n",
      "[LightGBM] [Warning] Unknown parameter: min_samples_leaf\n",
      "[LightGBM] [Warning] Unknown parameter: min_samples_split\n",
      "[LightGBM] [Warning] Accuracy may be bad since you didn't explicitly set num_leaves OR 2^max_depth > num_leaves. (num_leaves=31).\n",
      "[LightGBM] [Warning] Unknown parameter: min_samples_leaf\n",
      "[LightGBM] [Warning] Unknown parameter: min_samples_split\n",
      "[LightGBM] [Warning] Accuracy may be bad since you didn't explicitly set num_leaves OR 2^max_depth > num_leaves. (num_leaves=31).\n",
      "[LightGBM] [Warning] Unknown parameter: min_samples_leaf\n",
      "[LightGBM] [Warning] Unknown parameter: min_samples_split\n",
      "[LightGBM] [Warning] Accuracy may be bad since you didn't explicitly set num_leaves OR 2^max_depth > num_leaves. (num_leaves=31).\n",
      "[LightGBM] [Warning] Unknown parameter: min_samples_leaf\n",
      "[LightGBM] [Warning] Unknown parameter: min_samples_split\n",
      "[LightGBM] [Warning] Accuracy may be bad since you didn't explicitly set num_leaves OR 2^max_depth > num_leaves. (num_leaves=31).\n",
      "[LightGBM] [Warning] Unknown parameter: min_samples_leaf\n",
      "[LightGBM] [Warning] Unknown parameter: min_samples_split\n",
      "[LightGBM] [Warning] Accuracy may be bad since you didn't explicitly set num_leaves OR 2^max_depth > num_leaves. (num_leaves=31).\n",
      "[LightGBM] [Warning] Unknown parameter: min_samples_leaf\n",
      "[LightGBM] [Warning] Unknown parameter: min_samples_split\n",
      "[LightGBM] [Warning] Accuracy may be bad since you didn't explicitly set num_leaves OR 2^max_depth > num_leaves. (num_leaves=31).\n",
      "[LightGBM] [Warning] Unknown parameter: min_samples_leaf\n",
      "[LightGBM] [Warning] Unknown parameter: min_samples_split\n",
      "[LightGBM] [Warning] Accuracy may be bad since you didn't explicitly set num_leaves OR 2^max_depth > num_leaves. (num_leaves=31).\n",
      "[LightGBM] [Warning] Unknown parameter: min_samples_leaf\n",
      "[LightGBM] [Warning] Unknown parameter: min_samples_split\n",
      "[LightGBM] [Warning] Accuracy may be bad since you didn't explicitly set num_leaves OR 2^max_depth > num_leaves. (num_leaves=31).\n",
      "[LightGBM] [Warning] Unknown parameter: min_samples_leaf\n",
      "[LightGBM] [Warning] Unknown parameter: min_samples_split\n",
      "[LightGBM] [Warning] Accuracy may be bad since you didn't explicitly set num_leaves OR 2^max_depth > num_leaves. (num_leaves=31).\n",
      "[LightGBM] [Warning] Unknown parameter: min_samples_leaf\n",
      "[LightGBM] [Warning] Unknown parameter: min_samples_split\n",
      "[LightGBM] [Warning] Accuracy may be bad since you didn't explicitly set num_leaves OR 2^max_depth > num_leaves. (num_leaves=31).\n",
      "[LightGBM] [Warning] Unknown parameter: min_samples_leaf\n",
      "[LightGBM] [Warning] Unknown parameter: min_samples_split\n",
      "[LightGBM] [Warning] Accuracy may be bad since you didn't explicitly set num_leaves OR 2^max_depth > num_leaves. (num_leaves=31).\n",
      "[LightGBM] [Warning] Unknown parameter: min_samples_leaf\n",
      "[LightGBM] [Warning] Unknown parameter: min_samples_split\n",
      "[LightGBM] [Warning] Accuracy may be bad since you didn't explicitly set num_leaves OR 2^max_depth > num_leaves. (num_leaves=31).\n",
      "[LightGBM] [Warning] Unknown parameter: min_samples_leaf\n",
      "[LightGBM] [Warning] Unknown parameter: min_samples_split\n",
      "[LightGBM] [Warning] Accuracy may be bad since you didn't explicitly set num_leaves OR 2^max_depth > num_leaves. (num_leaves=31).\n",
      "[LightGBM] [Warning] Unknown parameter: min_samples_leaf\n",
      "[LightGBM] [Warning] Unknown parameter: min_samples_split\n",
      "[LightGBM] [Warning] Accuracy may be bad since you didn't explicitly set num_leaves OR 2^max_depth > num_leaves. (num_leaves=31).\n",
      "[LightGBM] [Warning] Unknown parameter: min_samples_leaf\n",
      "[LightGBM] [Warning] Unknown parameter: min_samples_split\n",
      "[LightGBM] [Warning] Accuracy may be bad since you didn't explicitly set num_leaves OR 2^max_depth > num_leaves. (num_leaves=31).\n",
      "[LightGBM] [Warning] Unknown parameter: min_samples_leaf\n",
      "[LightGBM] [Warning] Unknown parameter: min_samples_split\n",
      "[LightGBM] [Warning] Accuracy may be bad since you didn't explicitly set num_leaves OR 2^max_depth > num_leaves. (num_leaves=31).\n",
      "[LightGBM] [Warning] Unknown parameter: min_samples_leaf\n",
      "[LightGBM] [Warning] Unknown parameter: min_samples_split\n",
      "[LightGBM] [Warning] Accuracy may be bad since you didn't explicitly set num_leaves OR 2^max_depth > num_leaves. (num_leaves=31).\n",
      "[LightGBM] [Warning] Unknown parameter: min_samples_leaf\n",
      "[LightGBM] [Warning] Unknown parameter: min_samples_split\n",
      "[LightGBM] [Warning] Accuracy may be bad since you didn't explicitly set num_leaves OR 2^max_depth > num_leaves. (num_leaves=31).\n",
      "[LightGBM] [Warning] Unknown parameter: min_samples_leaf\n",
      "[LightGBM] [Warning] Unknown parameter: min_samples_split\n",
      "[LightGBM] [Warning] Accuracy may be bad since you didn't explicitly set num_leaves OR 2^max_depth > num_leaves. (num_leaves=31).\n",
      "[LightGBM] [Warning] Unknown parameter: min_samples_leaf\n",
      "[LightGBM] [Warning] Unknown parameter: min_samples_split\n",
      "[LightGBM] [Warning] Accuracy may be bad since you didn't explicitly set num_leaves OR 2^max_depth > num_leaves. (num_leaves=31).\n",
      "[LightGBM] [Warning] Unknown parameter: min_samples_leaf\n",
      "[LightGBM] [Warning] Unknown parameter: min_samples_split\n",
      "[LightGBM] [Warning] Accuracy may be bad since you didn't explicitly set num_leaves OR 2^max_depth > num_leaves. (num_leaves=31).\n",
      "[LightGBM] [Warning] Unknown parameter: min_samples_leaf\n",
      "[LightGBM] [Warning] Unknown parameter: min_samples_split\n",
      "[LightGBM] [Warning] Accuracy may be bad since you didn't explicitly set num_leaves OR 2^max_depth > num_leaves. (num_leaves=31).\n",
      "[LightGBM] [Warning] Unknown parameter: min_samples_leaf\n",
      "[LightGBM] [Warning] Unknown parameter: min_samples_split\n",
      "[LightGBM] [Warning] Accuracy may be bad since you didn't explicitly set num_leaves OR 2^max_depth > num_leaves. (num_leaves=31).\n",
      "[LightGBM] [Warning] Unknown parameter: min_samples_leaf\n",
      "[LightGBM] [Warning] Unknown parameter: min_samples_split\n",
      "[LightGBM] [Warning] Accuracy may be bad since you didn't explicitly set num_leaves OR 2^max_depth > num_leaves. (num_leaves=31).\n",
      "[LightGBM] [Warning] Unknown parameter: min_samples_leaf\n",
      "[LightGBM] [Warning] Unknown parameter: min_samples_split\n",
      "[LightGBM] [Warning] Accuracy may be bad since you didn't explicitly set num_leaves OR 2^max_depth > num_leaves. (num_leaves=31).\n",
      "[LightGBM] [Warning] Unknown parameter: min_samples_leaf\n",
      "[LightGBM] [Warning] Unknown parameter: min_samples_split\n",
      "[LightGBM] [Warning] Accuracy may be bad since you didn't explicitly set num_leaves OR 2^max_depth > num_leaves. (num_leaves=31).\n"
     ]
    },
    {
     "data": {
      "text/plain": [
       "RandomizedSearchCV(cv=3, estimator=LGBMClassifier(),\n",
       "                   param_distributions={'max_depth': <scipy.stats._distn_infrastructure.rv_frozen object at 0x000002787DD31188>,\n",
       "                                        'min_samples_leaf': <scipy.stats._distn_infrastructure.rv_frozen object at 0x00000278827FD348>,\n",
       "                                        'min_samples_split': <scipy.stats._distn_infrastructure.rv_frozen object at 0x0000027882483F48>,\n",
       "                                        'n_estimators': <scipy.stats._distn_infrastructure.rv_frozen object at 0x000002787E83E2C8>},\n",
       "                   return_train_score=True, scoring='f1')"
      ]
     },
     "execution_count": 74,
     "metadata": {},
     "output_type": "execute_result"
    }
   ],
   "source": [
    "import lightgbm as LGB\n",
    "clf = LGB.LGBMClassifier(n_jobs = -1)\n",
    "parameters = {\"n_estimators\" : sp_randint(105, 125),\n",
    "              \"max_depth\" : sp_randint(10, 15),\n",
    "              \"min_samples_split\" : sp_randint(110, 190),\n",
    "              \"min_samples_leaf\" : sp_randint(25, 65)}\n",
    "\n",
    "model = RandomizedSearchCV(clf, parameters, cv = 3, scoring = 'f1', return_train_score = True)\n",
    "model.fit(X_train, y_train)"
   ]
  },
  {
   "cell_type": "code",
   "execution_count": 75,
   "metadata": {},
   "outputs": [
    {
     "data": {
      "text/plain": [
       "{'max_depth': 14,\n",
       " 'min_samples_leaf': 62,\n",
       " 'min_samples_split': 121,\n",
       " 'n_estimators': 119}"
      ]
     },
     "execution_count": 75,
     "metadata": {},
     "output_type": "execute_result"
    }
   ],
   "source": [
    "model.best_params_"
   ]
  },
  {
   "cell_type": "code",
   "execution_count": 76,
   "metadata": {},
   "outputs": [
    {
     "data": {
      "text/plain": [
       "0.9748060378726707"
      ]
     },
     "execution_count": 76,
     "metadata": {},
     "output_type": "execute_result"
    }
   ],
   "source": [
    "model.best_score_"
   ]
  },
  {
   "cell_type": "code",
   "execution_count": 77,
   "metadata": {},
   "outputs": [
    {
     "data": {
      "text/plain": [
       "LGBMClassifier(max_depth=14, min_samples_leaf=62, min_samples_split=121,\n",
       "               n_estimators=119)"
      ]
     },
     "execution_count": 77,
     "metadata": {},
     "output_type": "execute_result"
    }
   ],
   "source": [
    "clf = LGB.LGBMClassifier(n_estimators = 119, max_depth = 14, min_samples_leaf = 62, min_samples_split = 121, n_jobs = -1)\n",
    "clf.fit(X_train, y_train)"
   ]
  },
  {
   "cell_type": "code",
   "execution_count": 78,
   "metadata": {},
   "outputs": [],
   "source": [
    "y_train_pred = clf.predict(X_train)\n",
    "y_test_pred = clf.predict(X_test)"
   ]
  },
  {
   "cell_type": "code",
   "execution_count": 81,
   "metadata": {},
   "outputs": [
    {
     "name": "stdout",
     "output_type": "stream",
     "text": [
      "Train confusion_matrix\n",
      "[[34828   203]\n",
      " [  942 34028]]\n",
      "Test confusion_matrix\n",
      "[[14718   162]\n",
      " [  510 14611]]\n"
     ]
    }
   ],
   "source": [
    "print('Train confusion_matrix')\n",
    "print(confusion_matrix(y_train, y_train_pred))\n",
    "print('Test confusion_matrix')\n",
    "print(confusion_matrix(y_test, y_test_pred))"
   ]
  },
  {
   "cell_type": "code",
   "execution_count": 83,
   "metadata": {},
   "outputs": [
    {
     "name": "stdout",
     "output_type": "stream",
     "text": [
      "Train f1 score 0.9834539963295328\n",
      "Test f1 score 0.977520572690172\n"
     ]
    }
   ],
   "source": [
    "print('Train f1 score', f1_score(y_train, y_train_pred))\n",
    "print('Test f1 score', f1_score(y_test, y_test_pred))"
   ]
  },
  {
   "cell_type": "code",
   "execution_count": 84,
   "metadata": {},
   "outputs": [
    {
     "data": {
      "image/png": "[encoded data removed]",
      "text/plain": [
       "<Figure size 432x288 with 1 Axes>"
      ]
     },
     "metadata": {
      "needs_background": "light"
     },
     "output_type": "display_data"
    }
   ],
   "source": [
    "fpr, tpr, ths = roc_curve(y_test, y_test_pred)\n",
    "auc_sc = auc(fpr, tpr)\n",
    "plt.plot(fpr, tpr, color='navy', label = 'ROC curve (area = %0.2f)' % auc_sc)\n",
    "plt.xlabel('False Positive Rate')\n",
    "plt.ylabel('True Positive Rate')\n",
    "plt.title('Receiver operating characteristic with test data')\n",
    "plt.legend()\n",
    "plt.show()"
   ]
  },
  {
   "cell_type": "code",
   "execution_count": 88,
   "metadata": {},
   "outputs": [
    {
     "data": {
      "image/png": "[encoded data removed]",
      "text/plain": [
       "<Figure size 720x864 with 1 Axes>"
      ]
     },
     "metadata": {
      "needs_background": "light"
     },
     "output_type": "display_data"
    }
   ],
   "source": [
    "importances = clf.feature_importances_\n",
    "indices = (np.argsort(importances))[-25:]\n",
    "plt.figure(figsize = (10, 12))\n",
    "plt.title('Feature Importances')\n",
    "plt.barh(range(len(indices)), importances[indices], color = 'blue', align = 'center')\n",
    "plt.yticks(range(len(indices)), [columns[i] for i in indices])\n",
    "plt.xlabel('Relative Importance')\n",
    "plt.show()"
   ]
  }
 ],
 "metadata": {
  "kernelspec": {
   "display_name": "Python 3",
   "language": "python",
   "name": "python3"
  },
  "language_info": {
   "codemirror_mode": {
    "name": "ipython",
    "version": 3
   },
   "file_extension": ".py",
   "mimetype": "text/x-python",
   "name": "python",
   "nbconvert_exporter": "python",
   "pygments_lexer": "ipython3",
   "version": "3.7.6"
  }
 },
 "nbformat": 4,
 "nbformat_minor": 4
}
